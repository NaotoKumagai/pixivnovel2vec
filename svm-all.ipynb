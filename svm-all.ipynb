{
 "cells": [
  {
   "cell_type": "markdown",
   "metadata": {},
   "source": [
    "# ベクトル化された小説データに対するSVMを用いたタグ分類 (出現率上位100件のタグすべてに実行)"
   ]
  },
  {
   "cell_type": "code",
   "execution_count": 1,
   "metadata": {
    "collapsed": true
   },
   "outputs": [],
   "source": [
    "import gensim\n",
    "import json\n",
    "import numpy as np\n",
    "import os\n",
    "import collections\n",
    "from sklearn import svm\n",
    "from sklearn import cross_validation\n",
    "from sklearn.externals import joblib\n",
    "from sklearn.externals.joblib import Parallel, delayed"
   ]
  },
  {
   "cell_type": "code",
   "execution_count": 2,
   "metadata": {
    "collapsed": true
   },
   "outputs": [],
   "source": [
    "model = gensim.models.doc2vec.Doc2Vec.load('novel2vec.model')"
   ]
  },
  {
   "cell_type": "code",
   "execution_count": 3,
   "metadata": {
    "collapsed": false
   },
   "outputs": [],
   "source": [
    "top_tags = json.load(open('top-tag-ids.json'))"
   ]
  },
  {
   "cell_type": "code",
   "execution_count": 4,
   "metadata": {
    "collapsed": false
   },
   "outputs": [],
   "source": [
    "tag_names = top_tags.keys()"
   ]
  },
  {
   "cell_type": "code",
   "execution_count": 5,
   "metadata": {
    "collapsed": true
   },
   "outputs": [],
   "source": [
    "def fit_svm(tag_name):\n",
    "    target_novel_ids = top_tags[tag_name]\n",
    "    \n",
    "    X = []\n",
    "    y = []\n",
    "    ids = []\n",
    "    for index, vector in enumerate(model.docvecs):\n",
    "        X.append(vector)\n",
    "        novel_id = model.docvecs.index_to_doctag(index)\n",
    "        ids.append(novel_id)\n",
    "        if int(novel_id) in target_novel_ids:\n",
    "            y.append(1)\n",
    "        else:\n",
    "            y.append(0)\n",
    "\n",
    "    X_train, X_test, y_train, y_test, ids_train, ids_test = cross_validation.train_test_split(X, y, ids, test_size=0.2, random_state=10)\n",
    "    clf = svm.SVC(kernel='linear').fit(X_train, y_train)\n",
    "    \n",
    "    if not os.path.exists('svms/%s' % tag_name):\n",
    "        os.makedirs('svms/%s' % tag_name)\n",
    "    joblib.dump(clf, 'svms/%s/classifier.pkl' % tag_name)\n",
    "    \n",
    "    y_predict = clf.predict(X_test)\n",
    "    test_counter = collections.Counter(y_test)\n",
    "    \n",
    "    false_negatives = 0\n",
    "    false_positives = 0\n",
    "    true_negatives = 0\n",
    "    true_positives = 0\n",
    "    false_positive_ids = []\n",
    "    false_negative_ids = []\n",
    "    for index, predict in enumerate(y_predict):\n",
    "        test = y_test[index]\n",
    "        if test == 0 and predict == 1:\n",
    "            false_positive_ids.append(ids_test[index])\n",
    "            false_positives += 1\n",
    "        if test == 1 and predict == 0:\n",
    "            false_negative_ids.append(ids_test[index])\n",
    "            false_negatives += 1\n",
    "        if test == 1 and predict == 1:\n",
    "            true_positives += 1\n",
    "        if test == 0 and predict == 0:\n",
    "            true_negatives += 1\n",
    "            \n",
    "    print('Successfully trained %s SVM' % tag_name)\n",
    "            \n",
    "    return {\n",
    "        'tag_name': tag_name,\n",
    "        'false_negatives': false_negatives,\n",
    "        'false_positives': false_positives,\n",
    "        'true_negatives': true_negatives,\n",
    "        'true_positives': true_positives,\n",
    "        'false_negative_ids': false_negative_ids,\n",
    "        'false_positive_ids': false_positive_ids,\n",
    "    }"
   ]
  },
  {
   "cell_type": "code",
   "execution_count": 6,
   "metadata": {
    "collapsed": false
   },
   "outputs": [
    {
     "name": "stdout",
     "output_type": "stream",
     "text": [
      "Successfully trained 図書館戦争 SVM\n",
      "Successfully trained とうらぶちゃんねる SVM\n",
      "Successfully trained 進撃の腐人 SVM\n",
      "Successfully trained チョロ松 SVM\n",
      "Successfully trained 文学 SVM\n",
      "Successfully trained 創作 SVM\n",
      "Successfully trained ワートリ【腐】 SVM\n",
      "Successfully trained オメガバース SVM\n",
      "Successfully trained 死ネタ SVM\n",
      "Successfully trained 詩 SVM\n",
      "Successfully trained パロディ SVM\n",
      "Successfully trained 冒険 SVM\n",
      "Successfully trained ラブライブ! SVM\n",
      "Successfully trained R-15 SVM\n",
      "Successfully trained 燭台切光忠 SVM\n",
      "Successfully trained アイドルマスターシンデレラガールズ SVM\n",
      "Successfully trained 続きを全裸待機 SVM\n",
      "Successfully trained 銀魂 SVM\n",
      "Successfully trained アイドリッシュセ腐ン SVM\n",
      "Successfully trained 鶴丸国永 SVM\n",
      "Successfully trained 一松 SVM\n",
      "Successfully trained 男審神者 SVM\n",
      "Successfully trained やはり俺の青春ラブコメはまちがっている。 SVM\n",
      "Successfully trained ヒロアカ【腐】 SVM\n",
      "Successfully trained カラ一 SVM\n",
      "Successfully trained ブラック本丸 SVM\n",
      "Successfully trained おそチョロ SVM\n",
      "Successfully trained BL SVM\n",
      "Successfully trained 赤井秀一 SVM\n",
      "Successfully trained BL松小説100users入り SVM\n",
      "Successfully trained サンプル SVM\n",
      "Successfully trained ホラー SVM\n",
      "Successfully trained 文スト【腐】 SVM\n",
      "Successfully trained ジョーカー・ゲーム SVM\n",
      "Successfully trained Fate/GrandOrder SVM\n",
      "Successfully trained パラレル SVM\n",
      "Successfully trained ヘタリア SVM\n",
      "Successfully trained 東方 SVM\n",
      "Successfully trained ワールドトリガー SVM\n",
      "Successfully trained アイドリッシュセブン SVM\n",
      "Successfully trained 現パロ SVM\n",
      "Successfully trained ガールズ&パンツァー SVM\n",
      "Successfully trained 創作BL SVM\n",
      "Successfully trained 山姥切国広 SVM\n",
      "Successfully trained ハイキュー!! SVM\n",
      "Successfully trained 創剣乱舞 SVM\n",
      "Successfully trained 黒バス【腐】 SVM\n",
      "Successfully trained 夢小説 SVM\n",
      "Successfully trained 刀×主 SVM\n",
      "Successfully trained 艦隊これくしょん SVM\n",
      "Successfully trained 三日月宗近 SVM\n",
      "Successfully trained カラ松 SVM\n",
      "Successfully trained カラおそ SVM\n",
      "Successfully trained R-18G SVM\n",
      "Successfully trained コメディ SVM\n",
      "Successfully trained 小説 SVM\n",
      "Successfully trained おそ松 SVM\n",
      "Successfully trained 勝デク SVM\n",
      "Successfully trained 学園 SVM\n",
      "Successfully trained NARUTO SVM\n",
      "Successfully trained 一カラ SVM\n",
      "Successfully trained 安室透 SVM\n",
      "Successfully trained おそカラ SVM\n",
      "Successfully trained 艦これ SVM\n",
      "Successfully trained 刀剣乱夢 SVM\n",
      "Successfully trained 腐界戦線 SVM\n",
      "Successfully trained 暗殺教室 SVM\n",
      "Successfully trained コナン小説100users入り SVM\n",
      "Successfully trained 腐向けJG SVM\n",
      "Successfully trained へし切長谷部 SVM\n",
      "Successfully trained 比企谷八幡 SVM\n",
      "Successfully trained ファンタジー SVM\n",
      "Successfully trained あんさん腐るスターズ! SVM\n",
      "Successfully trained 火アリ SVM\n",
      "Successfully trained 赤安 SVM\n",
      "Successfully trained 逆行 SVM\n",
      "Successfully trained 夢松 SVM\n",
      "Successfully trained 一期一振 SVM\n",
      "Successfully trained 刀剣乱舞 SVM\n",
      "Successfully trained ショートショート SVM\n",
      "Successfully trained 黒子のバスケ SVM\n",
      "Successfully trained SF SVM\n",
      "Successfully trained 百合 SVM\n",
      "Successfully trained 腐向けHQ SVM\n",
      "Successfully trained クロスオーバー SVM\n",
      "Successfully trained 女体化 SVM\n",
      "Successfully trained 恋愛 SVM\n",
      "Successfully trained オリキャラ SVM\n",
      "Successfully trained BL松 SVM\n",
      "Successfully trained 二次創作 SVM\n",
      "Successfully trained 名探偵コナン SVM\n",
      "Successfully trained 刀剣乱腐 SVM\n",
      "Successfully trained おそ松さん SVM\n",
      "Successfully trained 文豪ストレイドッグス SVM\n",
      "Successfully trained 弱虫ペダル SVM\n",
      "Successfully trained ポケモン SVM\n",
      "Successfully trained オリジナル SVM\n",
      "Successfully trained 女審神者 SVM\n",
      "Successfully trained 腐向け SVM\n",
      "Successfully trained R-18 SVM\n",
      "CPU times: user 1.5 s, sys: 924 ms, total: 2.42 s\n",
      "Wall time: 13min 24s\n"
     ]
    }
   ],
   "source": [
    "%time infos = Parallel(n_jobs=36)(delayed(fit_svm)(tag_name) for tag_name in tag_names)"
   ]
  },
  {
   "cell_type": "code",
   "execution_count": 7,
   "metadata": {
    "collapsed": true
   },
   "outputs": [],
   "source": [
    "with open('classifier-info.json', 'w') as outfile:\n",
    "    json.dump(infos, outfile)"
   ]
  }
 ],
 "metadata": {
  "kernelspec": {
   "display_name": "Python 2",
   "language": "python",
   "name": "python2"
  },
  "language_info": {
   "codemirror_mode": {
    "name": "ipython",
    "version": 2
   },
   "file_extension": ".py",
   "mimetype": "text/x-python",
   "name": "python",
   "nbconvert_exporter": "python",
   "pygments_lexer": "ipython2",
   "version": "2.7.9"
  }
 },
 "nbformat": 4,
 "nbformat_minor": 0
}
