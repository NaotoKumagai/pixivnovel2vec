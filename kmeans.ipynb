{
 "cells": [
  {
   "cell_type": "markdown",
   "metadata": {},
   "source": [
    "# ベクトル化された小説データに対するK-means法を用いた教師なし分類"
   ]
  },
  {
   "cell_type": "code",
   "execution_count": 8,
   "metadata": {
    "collapsed": true
   },
   "outputs": [],
   "source": [
    "import gensim\n",
    "import numpy as np\n",
    "from sklearn.cluster import KMeans"
   ]
  },
  {
   "cell_type": "code",
   "execution_count": 2,
   "metadata": {
    "collapsed": false
   },
   "outputs": [],
   "source": [
    "model = gensim.models.doc2vec.Doc2Vec.load('novel2vec.model')"
   ]
  },
  {
   "cell_type": "code",
   "execution_count": 12,
   "metadata": {
    "collapsed": false
   },
   "outputs": [],
   "source": [
    "novel_vectors = []\n",
    "for vec in model.docvecs:\n",
    "    novel_vectors.append(vec)\n",
    "novels = np.array(novel_vectors)"
   ]
  },
  {
   "cell_type": "code",
   "execution_count": 13,
   "metadata": {
    "collapsed": true
   },
   "outputs": [],
   "source": [
    "kmeans_model = KMeans(n_clusters=10, random_state=10).fit(novels)"
   ]
  },
  {
   "cell_type": "code",
   "execution_count": 15,
   "metadata": {
    "collapsed": false
   },
   "outputs": [],
   "source": [
    "labels = kmeans_model.labels_"
   ]
  },
  {
   "cell_type": "code",
   "execution_count": 16,
   "metadata": {
    "collapsed": true
   },
   "outputs": [],
   "source": [
    "novel_groups = [[]] * 10"
   ]
  },
  {
   "cell_type": "code",
   "execution_count": 17,
   "metadata": {
    "collapsed": true
   },
   "outputs": [],
   "source": [
    "for index, label in enumerate(labels):\n",
    "    novel_groups[label].append(model.docvecs.index_to_doctag(index))"
   ]
  },
  {
   "cell_type": "code",
   "execution_count": 20,
   "metadata": {
    "collapsed": false
   },
   "outputs": [
    {
     "name": "stdout",
     "output_type": "stream",
     "text": [
      "['6968504' '6987669' '6945565' '6930647' '6995367' '6932038' '6992180'\n",
      " '6934853' '6956064' '7000219']\n",
      "['6959417' '6919434' '6938318' '7005195' '6912599' '6971397' '6920599'\n",
      " '7015324' '6922919' '6946613']\n",
      "['7021341' '6981287' '6904945' '7000547' '7007621' '7010444' '6947626'\n",
      " '7001883' '6991110' '6975872']\n",
      "['6990098' '6934402' '6939633' '6926287' '6982022' '6979947' '7009924'\n",
      " '6924854' '6964804' '6999567']\n",
      "['6913440' '6992606' '6974210' '7001836' '6951182' '6932838' '6921204'\n",
      " '6974975' '7015941' '7000594']\n",
      "['6923791' '6950875' '6978729' '6932131' '7017806' '6923880' '6977916'\n",
      " '6934199' '6964824' '7002084']\n",
      "['6975353' '6939015' '6918732' '6967190' '6926799' '6972719' '7005432'\n",
      " '6927546' '6967766' '7015764']\n",
      "['6915843' '6969363' '6909264' '7000257' '6910182' '6973390' '6981431'\n",
      " '6998467' '6917267' '6947724']\n",
      "['6976238' '6998249' '6977341' '6915888' '6944054' '6946555' '6945287'\n",
      " '6947534' '6977567' '7004205']\n",
      "['6942805' '6915961' '7010815' '6998608' '7004937' '6962437' '7005519'\n",
      " '7012846' '6912801' '6937061']\n"
     ]
    }
   ],
   "source": [
    "for group in novel_groups:\n",
    "    print(np.random.choice(group, 10, replace=False))"
   ]
  },
  {
   "cell_type": "code",
   "execution_count": null,
   "metadata": {
    "collapsed": true
   },
   "outputs": [],
   "source": []
  }
 ],
 "metadata": {
  "kernelspec": {
   "display_name": "Python 2",
   "language": "python",
   "name": "python2"
  },
  "language_info": {
   "codemirror_mode": {
    "name": "ipython",
    "version": 2
   },
   "file_extension": ".py",
   "mimetype": "text/x-python",
   "name": "python",
   "nbconvert_exporter": "python",
   "pygments_lexer": "ipython2",
   "version": "2.7.9"
  }
 },
 "nbformat": 4,
 "nbformat_minor": 0
}
